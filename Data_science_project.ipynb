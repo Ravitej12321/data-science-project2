{
 "cells": [
  {
   "cell_type": "markdown",
   "id": "d5b70ebd-e962-44e3-9f58-c9590d09495e",
   "metadata": {},
   "source": [
    "# Global sales of EV\n"
   ]
  },
  {
   "cell_type": "markdown",
   "id": "5f101505-4aa6-466a-b995-a3c9f3bc2a93",
   "metadata": {},
   "source": [
    "The EV vehicles concept was started around early 19th centuary \n",
    "but due to high cost of EV vehicle and Non reusable batteries it was not popular in that period \n",
    "\n",
    "Again during the end of 19th centuary due to oil crisis and other global factors EV came into picture as alternative.\n",
    "\n",
    "types of EV:\n",
    "\n",
    "            1. Battery Electric Vehicles (BEVs)\n",
    "            2. Fuel Cell Electric Vehicles (FCEVs)\n",
    "            3. Plug-in Hybrid Electric Vehicles (PHEVs)\n",
    "depends on factors like driving habits, availability of refuelling or charging infrastructure, and environmental goals."
   ]
  },
  {
   "cell_type": "code",
   "execution_count": 1,
   "id": "842d520f-7f29-4ff6-b943-8291c7791d4c",
   "metadata": {},
   "outputs": [],
   "source": [
    "import pandas as pd\n",
    "import numpy as np\n",
    "import matplotlib.pyplot as plt\n"
   ]
  },
  {
   "cell_type": "code",
   "execution_count": 2,
   "id": "c2e7b492-031f-4220-8425-62d1d93c2736",
   "metadata": {},
   "outputs": [],
   "source": [
    "\n",
    "#reading the ev sales data\n",
    "ev_sales_data = pd.read_csv(\"IEA Global EV Data 2024.csv\")"
   ]
  },
  {
   "cell_type": "code",
   "execution_count": 3,
   "id": "81053db6-62d4-4510-9ff3-c799075b5159",
   "metadata": {},
   "outputs": [
    {
     "data": {
      "text/html": [
       "<div>\n",
       "<style scoped>\n",
       "    .dataframe tbody tr th:only-of-type {\n",
       "        vertical-align: middle;\n",
       "    }\n",
       "\n",
       "    .dataframe tbody tr th {\n",
       "        vertical-align: top;\n",
       "    }\n",
       "\n",
       "    .dataframe thead th {\n",
       "        text-align: right;\n",
       "    }\n",
       "</style>\n",
       "<table border=\"1\" class=\"dataframe\">\n",
       "  <thead>\n",
       "    <tr style=\"text-align: right;\">\n",
       "      <th></th>\n",
       "      <th>region</th>\n",
       "      <th>category</th>\n",
       "      <th>parameter</th>\n",
       "      <th>mode</th>\n",
       "      <th>powertrain</th>\n",
       "      <th>year</th>\n",
       "      <th>unit</th>\n",
       "      <th>value</th>\n",
       "    </tr>\n",
       "  </thead>\n",
       "  <tbody>\n",
       "    <tr>\n",
       "      <th>0</th>\n",
       "      <td>Australia</td>\n",
       "      <td>Historical</td>\n",
       "      <td>EV stock share</td>\n",
       "      <td>Cars</td>\n",
       "      <td>EV</td>\n",
       "      <td>2011</td>\n",
       "      <td>percent</td>\n",
       "      <td>0.00039</td>\n",
       "    </tr>\n",
       "    <tr>\n",
       "      <th>1</th>\n",
       "      <td>Australia</td>\n",
       "      <td>Historical</td>\n",
       "      <td>EV sales share</td>\n",
       "      <td>Cars</td>\n",
       "      <td>EV</td>\n",
       "      <td>2011</td>\n",
       "      <td>percent</td>\n",
       "      <td>0.00650</td>\n",
       "    </tr>\n",
       "    <tr>\n",
       "      <th>2</th>\n",
       "      <td>Australia</td>\n",
       "      <td>Historical</td>\n",
       "      <td>EV sales</td>\n",
       "      <td>Cars</td>\n",
       "      <td>BEV</td>\n",
       "      <td>2011</td>\n",
       "      <td>Vehicles</td>\n",
       "      <td>49.00000</td>\n",
       "    </tr>\n",
       "    <tr>\n",
       "      <th>3</th>\n",
       "      <td>Australia</td>\n",
       "      <td>Historical</td>\n",
       "      <td>EV stock</td>\n",
       "      <td>Cars</td>\n",
       "      <td>BEV</td>\n",
       "      <td>2011</td>\n",
       "      <td>Vehicles</td>\n",
       "      <td>49.00000</td>\n",
       "    </tr>\n",
       "    <tr>\n",
       "      <th>4</th>\n",
       "      <td>Australia</td>\n",
       "      <td>Historical</td>\n",
       "      <td>EV stock</td>\n",
       "      <td>Cars</td>\n",
       "      <td>BEV</td>\n",
       "      <td>2012</td>\n",
       "      <td>Vehicles</td>\n",
       "      <td>220.00000</td>\n",
       "    </tr>\n",
       "  </tbody>\n",
       "</table>\n",
       "</div>"
      ],
      "text/plain": [
       "      region    category       parameter  mode powertrain  year      unit  \\\n",
       "0  Australia  Historical  EV stock share  Cars         EV  2011   percent   \n",
       "1  Australia  Historical  EV sales share  Cars         EV  2011   percent   \n",
       "2  Australia  Historical        EV sales  Cars        BEV  2011  Vehicles   \n",
       "3  Australia  Historical        EV stock  Cars        BEV  2011  Vehicles   \n",
       "4  Australia  Historical        EV stock  Cars        BEV  2012  Vehicles   \n",
       "\n",
       "       value  \n",
       "0    0.00039  \n",
       "1    0.00650  \n",
       "2   49.00000  \n",
       "3   49.00000  \n",
       "4  220.00000  "
      ]
     },
     "execution_count": 3,
     "metadata": {},
     "output_type": "execute_result"
    }
   ],
   "source": [
    "# top 5 rows of data \n",
    "ev_sales_data.head()"
   ]
  },
  {
   "cell_type": "markdown",
   "id": "9ebcf6f7-5d9f-45d0-b2c0-38f252185aa8",
   "metadata": {},
   "source": [
    "# Data Dictionary"
   ]
  },
  {
   "cell_type": "markdown",
   "id": "7885882d-8f6a-4de6-b6b9-780eba86db00",
   "metadata": {},
   "source": [
    "1. Region :     Country\n",
    "2. Category :   Historical \n",
    "3. parameter:   sales or share or stock\n",
    "4. mode:        mode of transport\n",
    "5. powertrain : Type of Electric Vehicle mode\n",
    "6. year:        Manufacturing Year\n",
    "7. Unit :       percentr or No.of vehicles"
   ]
  },
  {
   "cell_type": "code",
   "execution_count": 4,
   "id": "df2a2524-2cfa-46eb-84d2-9332574166e9",
   "metadata": {},
   "outputs": [
    {
     "data": {
      "text/plain": [
       "region        0\n",
       "category      0\n",
       "parameter     0\n",
       "mode          0\n",
       "powertrain    0\n",
       "year          0\n",
       "unit          0\n",
       "value         0\n",
       "dtype: int64"
      ]
     },
     "execution_count": 4,
     "metadata": {},
     "output_type": "execute_result"
    }
   ],
   "source": [
    "# Checking the null values present in the dataframe\n",
    "ev_sales_data.isna().sum()"
   ]
  },
  {
   "cell_type": "code",
   "execution_count": 5,
   "id": "6af82fb8-a2ac-41d0-b075-9611c399fcd8",
   "metadata": {},
   "outputs": [
    {
     "name": "stdout",
     "output_type": "stream",
     "text": [
      "<class 'pandas.core.frame.DataFrame'>\n",
      "RangeIndex: 12654 entries, 0 to 12653\n",
      "Data columns (total 8 columns):\n",
      " #   Column      Non-Null Count  Dtype  \n",
      "---  ------      --------------  -----  \n",
      " 0   region      12654 non-null  object \n",
      " 1   category    12654 non-null  object \n",
      " 2   parameter   12654 non-null  object \n",
      " 3   mode        12654 non-null  object \n",
      " 4   powertrain  12654 non-null  object \n",
      " 5   year        12654 non-null  int64  \n",
      " 6   unit        12654 non-null  object \n",
      " 7   value       12654 non-null  float64\n",
      "dtypes: float64(1), int64(1), object(6)\n",
      "memory usage: 791.0+ KB\n"
     ]
    }
   ],
   "source": [
    "#info about the dataframe\n",
    "\n",
    "ev_sales_data.info()"
   ]
  },
  {
   "cell_type": "markdown",
   "id": "11f03445-43fa-496d-8c0e-38efe13e8311",
   "metadata": {},
   "source": [
    "# Exploratory Data Analysis\n",
    "\n",
    "Researching on the each feature to check the trend."
   ]
  },
  {
   "cell_type": "code",
   "execution_count": 6,
   "id": "ed7a8777-b942-4b15-8e24-1899e27e3c4f",
   "metadata": {},
   "outputs": [
    {
     "data": {
      "image/png": "[encoded data removed]",
      "text/plain": [
       "<Figure size 640x480 with 1 Axes>"
      ]
     },
     "metadata": {},
     "output_type": "display_data"
    }
   ],
   "source": [
    "plt.plot(ev_sales_data.value);"
   ]
  },
  {
   "cell_type": "code",
   "execution_count": 7,
   "id": "427f9729-699f-44f0-a986-77978389f6c2",
   "metadata": {},
   "outputs": [
    {
     "data": {
      "text/plain": [
       "parameter\n",
       "EV stock                         3470\n",
       "EV sales                         3372\n",
       "EV sales share                   1642\n",
       "EV stock share                   1529\n",
       "EV charging points                918\n",
       "Oil displacement Mbd              586\n",
       "Oil displacement, million lge     586\n",
       "Electricity demand                551\n",
       "Name: count, dtype: int64"
      ]
     },
     "execution_count": 7,
     "metadata": {},
     "output_type": "execute_result"
    }
   ],
   "source": [
    "ev_sales_data[\"parameter\"].value_counts()"
   ]
  },
  {
   "cell_type": "code",
   "execution_count": 8,
   "id": "1ded3b12-3104-427d-b1cd-bfa2ce7c3205",
   "metadata": {},
   "outputs": [
    {
     "data": {
      "text/plain": [
       "category\n",
       "Historical          9174\n",
       "Projection-APS      1742\n",
       "Projection-STEPS    1738\n",
       "Name: count, dtype: int64"
      ]
     },
     "execution_count": 8,
     "metadata": {},
     "output_type": "execute_result"
    }
   ],
   "source": [
    "ev_sales_data[\"category\"].value_counts()"
   ]
  },
  {
   "cell_type": "code",
   "execution_count": 9,
   "id": "bcd42b8a-c18d-461a-8134-dd3edcf6a2b7",
   "metadata": {},
   "outputs": [
    {
     "data": {
      "text/plain": [
       "1032"
      ]
     },
     "execution_count": 9,
     "metadata": {},
     "output_type": "execute_result"
    }
   ],
   "source": [
    "len(ev_sales_data[\"value\"].value_counts())"
   ]
  },
  {
   "cell_type": "code",
   "execution_count": 76,
   "id": "f76a58ea-75e6-4fc0-876a-ccd216c0b84d",
   "metadata": {},
   "outputs": [
    {
     "data": {
      "text/plain": [
       "mode\n",
       "Cars      4706\n",
       "Buses     2696\n",
       "Vans      2568\n",
       "Trucks    1766\n",
       "EV         918\n",
       "Name: count, dtype: int64"
      ]
     },
     "execution_count": 76,
     "metadata": {},
     "output_type": "execute_result"
    }
   ],
   "source": [
    "ev_sales_data[\"mode\"].value_counts()"
   ]
  },
  {
   "cell_type": "code",
   "execution_count": 10,
   "id": "3ac7e23d-4a79-4016-ae47-2162b684df3f",
   "metadata": {},
   "outputs": [
    {
     "data": {
      "text/plain": [
       "powertrain\n",
       "EV                         4894\n",
       "BEV                        3204\n",
       "PHEV                       2126\n",
       "FCEV                       1512\n",
       "Publicly available slow     463\n",
       "Publicly available fast     455\n",
       "Name: count, dtype: int64"
      ]
     },
     "execution_count": 10,
     "metadata": {},
     "output_type": "execute_result"
    }
   ],
   "source": [
    "ev_sales_data[\"powertrain\"].value_counts()"
   ]
  },
  {
   "cell_type": "code",
   "execution_count": 11,
   "id": "af71af3e-93fe-47b0-90df-47ecf52f51a9",
   "metadata": {},
   "outputs": [
    {
     "data": {
      "text/plain": [
       "unit\n",
       "Vehicles                         6842\n",
       "percent                          3171\n",
       "charging points                   918\n",
       "Milion barrels per day            586\n",
       "Oil displacement, million lge     586\n",
       "GWh                               551\n",
       "Name: count, dtype: int64"
      ]
     },
     "execution_count": 11,
     "metadata": {},
     "output_type": "execute_result"
    }
   ],
   "source": [
    "ev_sales_data[\"unit\"].value_counts()"
   ]
  },
  {
   "cell_type": "markdown",
   "id": "328aa785-b32a-4a0c-9f0e-39cb49e47f2b",
   "metadata": {},
   "source": [
    "# Data Evaluation \n",
    "\n",
    "create the model to predict the future scope or growth demand for the ev sales with a accuracy of 95% to pursue the project\n"
   ]
  },
  {
   "cell_type": "markdown",
   "id": "1d097d19-1adf-42b6-8dd5-bad9e76c9cf6",
   "metadata": {},
   "source": [
    "using the autoencoders convert the strings datatypes to numeric data types."
   ]
  },
  {
   "cell_type": "code",
   "execution_count": 13,
   "id": "9bb6832f-0780-43d1-8981-bc063da409b2",
   "metadata": {},
   "outputs": [
    {
     "data": {
      "text/html": [
       "<div>\n",
       "<style scoped>\n",
       "    .dataframe tbody tr th:only-of-type {\n",
       "        vertical-align: middle;\n",
       "    }\n",
       "\n",
       "    .dataframe tbody tr th {\n",
       "        vertical-align: top;\n",
       "    }\n",
       "\n",
       "    .dataframe thead th {\n",
       "        text-align: right;\n",
       "    }\n",
       "</style>\n",
       "<table border=\"1\" class=\"dataframe\">\n",
       "  <thead>\n",
       "    <tr style=\"text-align: right;\">\n",
       "      <th></th>\n",
       "      <th>region</th>\n",
       "      <th>parameter</th>\n",
       "      <th>mode</th>\n",
       "      <th>powertrain</th>\n",
       "      <th>year</th>\n",
       "      <th>unit</th>\n",
       "      <th>value</th>\n",
       "      <th>category_Historical</th>\n",
       "      <th>category_Projection-APS</th>\n",
       "      <th>category_Projection-STEPS</th>\n",
       "    </tr>\n",
       "  </thead>\n",
       "  <tbody>\n",
       "    <tr>\n",
       "      <th>0</th>\n",
       "      <td>Australia</td>\n",
       "      <td>EV stock share</td>\n",
       "      <td>Cars</td>\n",
       "      <td>EV</td>\n",
       "      <td>2011</td>\n",
       "      <td>percent</td>\n",
       "      <td>3.900000e-04</td>\n",
       "      <td>True</td>\n",
       "      <td>False</td>\n",
       "      <td>False</td>\n",
       "    </tr>\n",
       "    <tr>\n",
       "      <th>1</th>\n",
       "      <td>Australia</td>\n",
       "      <td>EV sales share</td>\n",
       "      <td>Cars</td>\n",
       "      <td>EV</td>\n",
       "      <td>2011</td>\n",
       "      <td>percent</td>\n",
       "      <td>6.500000e-03</td>\n",
       "      <td>True</td>\n",
       "      <td>False</td>\n",
       "      <td>False</td>\n",
       "    </tr>\n",
       "    <tr>\n",
       "      <th>2</th>\n",
       "      <td>Australia</td>\n",
       "      <td>EV sales</td>\n",
       "      <td>Cars</td>\n",
       "      <td>BEV</td>\n",
       "      <td>2011</td>\n",
       "      <td>Vehicles</td>\n",
       "      <td>4.900000e+01</td>\n",
       "      <td>True</td>\n",
       "      <td>False</td>\n",
       "      <td>False</td>\n",
       "    </tr>\n",
       "    <tr>\n",
       "      <th>3</th>\n",
       "      <td>Australia</td>\n",
       "      <td>EV stock</td>\n",
       "      <td>Cars</td>\n",
       "      <td>BEV</td>\n",
       "      <td>2011</td>\n",
       "      <td>Vehicles</td>\n",
       "      <td>4.900000e+01</td>\n",
       "      <td>True</td>\n",
       "      <td>False</td>\n",
       "      <td>False</td>\n",
       "    </tr>\n",
       "    <tr>\n",
       "      <th>4</th>\n",
       "      <td>Australia</td>\n",
       "      <td>EV stock</td>\n",
       "      <td>Cars</td>\n",
       "      <td>BEV</td>\n",
       "      <td>2012</td>\n",
       "      <td>Vehicles</td>\n",
       "      <td>2.200000e+02</td>\n",
       "      <td>True</td>\n",
       "      <td>False</td>\n",
       "      <td>False</td>\n",
       "    </tr>\n",
       "    <tr>\n",
       "      <th>...</th>\n",
       "      <td>...</td>\n",
       "      <td>...</td>\n",
       "      <td>...</td>\n",
       "      <td>...</td>\n",
       "      <td>...</td>\n",
       "      <td>...</td>\n",
       "      <td>...</td>\n",
       "      <td>...</td>\n",
       "      <td>...</td>\n",
       "      <td>...</td>\n",
       "    </tr>\n",
       "    <tr>\n",
       "      <th>12649</th>\n",
       "      <td>World</td>\n",
       "      <td>EV sales share</td>\n",
       "      <td>Cars</td>\n",
       "      <td>EV</td>\n",
       "      <td>2035</td>\n",
       "      <td>percent</td>\n",
       "      <td>5.500000e+01</td>\n",
       "      <td>False</td>\n",
       "      <td>False</td>\n",
       "      <td>True</td>\n",
       "    </tr>\n",
       "    <tr>\n",
       "      <th>12650</th>\n",
       "      <td>World</td>\n",
       "      <td>EV stock share</td>\n",
       "      <td>Cars</td>\n",
       "      <td>EV</td>\n",
       "      <td>2035</td>\n",
       "      <td>percent</td>\n",
       "      <td>3.100000e+01</td>\n",
       "      <td>False</td>\n",
       "      <td>False</td>\n",
       "      <td>True</td>\n",
       "    </tr>\n",
       "    <tr>\n",
       "      <th>12651</th>\n",
       "      <td>World</td>\n",
       "      <td>EV charging points</td>\n",
       "      <td>EV</td>\n",
       "      <td>Publicly available fast</td>\n",
       "      <td>2035</td>\n",
       "      <td>charging points</td>\n",
       "      <td>9.400000e+06</td>\n",
       "      <td>False</td>\n",
       "      <td>True</td>\n",
       "      <td>False</td>\n",
       "    </tr>\n",
       "    <tr>\n",
       "      <th>12652</th>\n",
       "      <td>World</td>\n",
       "      <td>EV charging points</td>\n",
       "      <td>EV</td>\n",
       "      <td>Publicly available slow</td>\n",
       "      <td>2035</td>\n",
       "      <td>charging points</td>\n",
       "      <td>1.500000e+07</td>\n",
       "      <td>False</td>\n",
       "      <td>True</td>\n",
       "      <td>False</td>\n",
       "    </tr>\n",
       "    <tr>\n",
       "      <th>12653</th>\n",
       "      <td>World</td>\n",
       "      <td>EV stock share</td>\n",
       "      <td>Trucks</td>\n",
       "      <td>EV</td>\n",
       "      <td>2035</td>\n",
       "      <td>percent</td>\n",
       "      <td>9.000000e+00</td>\n",
       "      <td>False</td>\n",
       "      <td>False</td>\n",
       "      <td>True</td>\n",
       "    </tr>\n",
       "  </tbody>\n",
       "</table>\n",
       "<p>12654 rows × 10 columns</p>\n",
       "</div>"
      ],
      "text/plain": [
       "          region           parameter    mode               powertrain  year  \\\n",
       "0      Australia      EV stock share    Cars                       EV  2011   \n",
       "1      Australia      EV sales share    Cars                       EV  2011   \n",
       "2      Australia            EV sales    Cars                      BEV  2011   \n",
       "3      Australia            EV stock    Cars                      BEV  2011   \n",
       "4      Australia            EV stock    Cars                      BEV  2012   \n",
       "...          ...                 ...     ...                      ...   ...   \n",
       "12649      World      EV sales share    Cars                       EV  2035   \n",
       "12650      World      EV stock share    Cars                       EV  2035   \n",
       "12651      World  EV charging points      EV  Publicly available fast  2035   \n",
       "12652      World  EV charging points      EV  Publicly available slow  2035   \n",
       "12653      World      EV stock share  Trucks                       EV  2035   \n",
       "\n",
       "                  unit         value  category_Historical  \\\n",
       "0              percent  3.900000e-04                 True   \n",
       "1              percent  6.500000e-03                 True   \n",
       "2             Vehicles  4.900000e+01                 True   \n",
       "3             Vehicles  4.900000e+01                 True   \n",
       "4             Vehicles  2.200000e+02                 True   \n",
       "...                ...           ...                  ...   \n",
       "12649          percent  5.500000e+01                False   \n",
       "12650          percent  3.100000e+01                False   \n",
       "12651  charging points  9.400000e+06                False   \n",
       "12652  charging points  1.500000e+07                False   \n",
       "12653          percent  9.000000e+00                False   \n",
       "\n",
       "       category_Projection-APS  category_Projection-STEPS  \n",
       "0                        False                      False  \n",
       "1                        False                      False  \n",
       "2                        False                      False  \n",
       "3                        False                      False  \n",
       "4                        False                      False  \n",
       "...                        ...                        ...  \n",
       "12649                    False                       True  \n",
       "12650                    False                       True  \n",
       "12651                     True                      False  \n",
       "12652                     True                      False  \n",
       "12653                    False                       True  \n",
       "\n",
       "[12654 rows x 10 columns]"
      ]
     },
     "execution_count": 13,
     "metadata": {},
     "output_type": "execute_result"
    }
   ],
   "source": [
    "# convert string datatype or object to float datatype\n",
    "\n",
    "from sklearn import preprocessing\n",
    "\n",
    "# encoder = preprocessing.OneHotEncoder(handle_unknown='ignore')\n",
    "\n",
    "# ev_sales_data[['region']]= encoder.fit_transform(ev_sales_data[['region']])\n",
    "encode_df = pd.get_dummies(ev_sales_data,columns=['category'])#, 'category','parameter','mode','powertrain','unit'])\n",
    "\n",
    "encode_df"
   ]
  },
  {
   "cell_type": "code",
   "execution_count": 14,
   "id": "4e45c2e9-b940-444e-a847-9c0694c245ed",
   "metadata": {},
   "outputs": [
    {
     "data": {
      "text/html": [
       "<div>\n",
       "<style scoped>\n",
       "    .dataframe tbody tr th:only-of-type {\n",
       "        vertical-align: middle;\n",
       "    }\n",
       "\n",
       "    .dataframe tbody tr th {\n",
       "        vertical-align: top;\n",
       "    }\n",
       "\n",
       "    .dataframe thead th {\n",
       "        text-align: right;\n",
       "    }\n",
       "</style>\n",
       "<table border=\"1\" class=\"dataframe\">\n",
       "  <thead>\n",
       "    <tr style=\"text-align: right;\">\n",
       "      <th></th>\n",
       "      <th>region</th>\n",
       "      <th>parameter</th>\n",
       "      <th>mode</th>\n",
       "      <th>powertrain</th>\n",
       "      <th>year</th>\n",
       "      <th>unit</th>\n",
       "      <th>value</th>\n",
       "      <th>category_Historical</th>\n",
       "      <th>category_Projection-APS</th>\n",
       "      <th>category_Projection-STEPS</th>\n",
       "    </tr>\n",
       "  </thead>\n",
       "  <tbody>\n",
       "    <tr>\n",
       "      <th>0</th>\n",
       "      <td>Australia</td>\n",
       "      <td>EV stock share</td>\n",
       "      <td>Cars</td>\n",
       "      <td>EV</td>\n",
       "      <td>2011</td>\n",
       "      <td>percent</td>\n",
       "      <td>0.00039</td>\n",
       "      <td>True</td>\n",
       "      <td>False</td>\n",
       "      <td>False</td>\n",
       "    </tr>\n",
       "    <tr>\n",
       "      <th>1</th>\n",
       "      <td>Australia</td>\n",
       "      <td>EV sales share</td>\n",
       "      <td>Cars</td>\n",
       "      <td>EV</td>\n",
       "      <td>2011</td>\n",
       "      <td>percent</td>\n",
       "      <td>0.00650</td>\n",
       "      <td>True</td>\n",
       "      <td>False</td>\n",
       "      <td>False</td>\n",
       "    </tr>\n",
       "    <tr>\n",
       "      <th>2</th>\n",
       "      <td>Australia</td>\n",
       "      <td>EV sales</td>\n",
       "      <td>Cars</td>\n",
       "      <td>BEV</td>\n",
       "      <td>2011</td>\n",
       "      <td>Vehicles</td>\n",
       "      <td>49.00000</td>\n",
       "      <td>True</td>\n",
       "      <td>False</td>\n",
       "      <td>False</td>\n",
       "    </tr>\n",
       "    <tr>\n",
       "      <th>3</th>\n",
       "      <td>Australia</td>\n",
       "      <td>EV stock</td>\n",
       "      <td>Cars</td>\n",
       "      <td>BEV</td>\n",
       "      <td>2011</td>\n",
       "      <td>Vehicles</td>\n",
       "      <td>49.00000</td>\n",
       "      <td>True</td>\n",
       "      <td>False</td>\n",
       "      <td>False</td>\n",
       "    </tr>\n",
       "    <tr>\n",
       "      <th>4</th>\n",
       "      <td>Australia</td>\n",
       "      <td>EV stock</td>\n",
       "      <td>Cars</td>\n",
       "      <td>BEV</td>\n",
       "      <td>2012</td>\n",
       "      <td>Vehicles</td>\n",
       "      <td>220.00000</td>\n",
       "      <td>True</td>\n",
       "      <td>False</td>\n",
       "      <td>False</td>\n",
       "    </tr>\n",
       "  </tbody>\n",
       "</table>\n",
       "</div>"
      ],
      "text/plain": [
       "      region       parameter  mode powertrain  year      unit      value  \\\n",
       "0  Australia  EV stock share  Cars         EV  2011   percent    0.00039   \n",
       "1  Australia  EV sales share  Cars         EV  2011   percent    0.00650   \n",
       "2  Australia        EV sales  Cars        BEV  2011  Vehicles   49.00000   \n",
       "3  Australia        EV stock  Cars        BEV  2011  Vehicles   49.00000   \n",
       "4  Australia        EV stock  Cars        BEV  2012  Vehicles  220.00000   \n",
       "\n",
       "   category_Historical  category_Projection-APS  category_Projection-STEPS  \n",
       "0                 True                    False                      False  \n",
       "1                 True                    False                      False  \n",
       "2                 True                    False                      False  \n",
       "3                 True                    False                      False  \n",
       "4                 True                    False                      False  "
      ]
     },
     "execution_count": 14,
     "metadata": {},
     "output_type": "execute_result"
    }
   ],
   "source": [
    "encode_df.head()"
   ]
  },
  {
   "cell_type": "code",
   "execution_count": 10,
   "id": "852b71d8-4401-4665-b649-4c36d1b334f2",
   "metadata": {},
   "outputs": [
    {
     "data": {
      "text/plain": [
       "mode\n",
       "Cars      4706\n",
       "Buses     2696\n",
       "Vans      2568\n",
       "Trucks    1766\n",
       "EV         918\n",
       "Name: count, dtype: int64"
      ]
     },
     "execution_count": 10,
     "metadata": {},
     "output_type": "execute_result"
    }
   ],
   "source": [
    "ev_sales_data[\"mode\"].value_counts()"
   ]
  },
  {
   "cell_type": "code",
   "execution_count": 14,
   "id": "a1de95b3-7e88-483b-a91a-3ee252f40bbf",
   "metadata": {},
   "outputs": [
    {
     "data": {
      "text/html": [
       "<div>\n",
       "<style scoped>\n",
       "    .dataframe tbody tr th:only-of-type {\n",
       "        vertical-align: middle;\n",
       "    }\n",
       "\n",
       "    .dataframe tbody tr th {\n",
       "        vertical-align: top;\n",
       "    }\n",
       "\n",
       "    .dataframe thead th {\n",
       "        text-align: right;\n",
       "    }\n",
       "</style>\n",
       "<table border=\"1\" class=\"dataframe\">\n",
       "  <thead>\n",
       "    <tr style=\"text-align: right;\">\n",
       "      <th></th>\n",
       "      <th>region</th>\n",
       "      <th>category</th>\n",
       "      <th>parameter</th>\n",
       "      <th>mode</th>\n",
       "      <th>powertrain</th>\n",
       "      <th>year</th>\n",
       "      <th>unit</th>\n",
       "      <th>value</th>\n",
       "    </tr>\n",
       "  </thead>\n",
       "  <tbody>\n",
       "    <tr>\n",
       "      <th>38</th>\n",
       "      <td>Australia</td>\n",
       "      <td>Historical</td>\n",
       "      <td>EV charging points</td>\n",
       "      <td>EV</td>\n",
       "      <td>Publicly available fast</td>\n",
       "      <td>2017</td>\n",
       "      <td>charging points</td>\n",
       "      <td>40.0</td>\n",
       "    </tr>\n",
       "    <tr>\n",
       "      <th>39</th>\n",
       "      <td>Australia</td>\n",
       "      <td>Historical</td>\n",
       "      <td>EV charging points</td>\n",
       "      <td>EV</td>\n",
       "      <td>Publicly available slow</td>\n",
       "      <td>2017</td>\n",
       "      <td>charging points</td>\n",
       "      <td>440.0</td>\n",
       "    </tr>\n",
       "    <tr>\n",
       "      <th>44</th>\n",
       "      <td>Australia</td>\n",
       "      <td>Historical</td>\n",
       "      <td>EV charging points</td>\n",
       "      <td>EV</td>\n",
       "      <td>Publicly available fast</td>\n",
       "      <td>2018</td>\n",
       "      <td>charging points</td>\n",
       "      <td>61.0</td>\n",
       "    </tr>\n",
       "    <tr>\n",
       "      <th>45</th>\n",
       "      <td>Australia</td>\n",
       "      <td>Historical</td>\n",
       "      <td>EV charging points</td>\n",
       "      <td>EV</td>\n",
       "      <td>Publicly available slow</td>\n",
       "      <td>2018</td>\n",
       "      <td>charging points</td>\n",
       "      <td>670.0</td>\n",
       "    </tr>\n",
       "    <tr>\n",
       "      <th>54</th>\n",
       "      <td>Australia</td>\n",
       "      <td>Historical</td>\n",
       "      <td>EV charging points</td>\n",
       "      <td>EV</td>\n",
       "      <td>Publicly available slow</td>\n",
       "      <td>2019</td>\n",
       "      <td>charging points</td>\n",
       "      <td>1700.0</td>\n",
       "    </tr>\n",
       "    <tr>\n",
       "      <th>...</th>\n",
       "      <td>...</td>\n",
       "      <td>...</td>\n",
       "      <td>...</td>\n",
       "      <td>...</td>\n",
       "      <td>...</td>\n",
       "      <td>...</td>\n",
       "      <td>...</td>\n",
       "      <td>...</td>\n",
       "    </tr>\n",
       "    <tr>\n",
       "      <th>12569</th>\n",
       "      <td>World</td>\n",
       "      <td>Projection-APS</td>\n",
       "      <td>Oil displacement, million lge</td>\n",
       "      <td>Cars</td>\n",
       "      <td>EV</td>\n",
       "      <td>2035</td>\n",
       "      <td>Oil displacement, million lge</td>\n",
       "      <td>450000.0</td>\n",
       "    </tr>\n",
       "    <tr>\n",
       "      <th>12578</th>\n",
       "      <td>World</td>\n",
       "      <td>Projection-STEPS</td>\n",
       "      <td>Oil displacement, million lge</td>\n",
       "      <td>Buses</td>\n",
       "      <td>EV</td>\n",
       "      <td>2035</td>\n",
       "      <td>Oil displacement, million lge</td>\n",
       "      <td>30000.0</td>\n",
       "    </tr>\n",
       "    <tr>\n",
       "      <th>12579</th>\n",
       "      <td>World</td>\n",
       "      <td>Projection-STEPS</td>\n",
       "      <td>Oil displacement, million lge</td>\n",
       "      <td>Trucks</td>\n",
       "      <td>EV</td>\n",
       "      <td>2035</td>\n",
       "      <td>Oil displacement, million lge</td>\n",
       "      <td>87000.0</td>\n",
       "    </tr>\n",
       "    <tr>\n",
       "      <th>12580</th>\n",
       "      <td>World</td>\n",
       "      <td>Projection-STEPS</td>\n",
       "      <td>Oil displacement, million lge</td>\n",
       "      <td>Vans</td>\n",
       "      <td>EV</td>\n",
       "      <td>2035</td>\n",
       "      <td>Oil displacement, million lge</td>\n",
       "      <td>53000.0</td>\n",
       "    </tr>\n",
       "    <tr>\n",
       "      <th>12581</th>\n",
       "      <td>World</td>\n",
       "      <td>Projection-STEPS</td>\n",
       "      <td>Oil displacement, million lge</td>\n",
       "      <td>Cars</td>\n",
       "      <td>EV</td>\n",
       "      <td>2035</td>\n",
       "      <td>Oil displacement, million lge</td>\n",
       "      <td>450000.0</td>\n",
       "    </tr>\n",
       "  </tbody>\n",
       "</table>\n",
       "<p>12654 rows × 8 columns</p>\n",
       "</div>"
      ],
      "text/plain": [
       "          region          category                      parameter    mode  \\\n",
       "38     Australia        Historical             EV charging points      EV   \n",
       "39     Australia        Historical             EV charging points      EV   \n",
       "44     Australia        Historical             EV charging points      EV   \n",
       "45     Australia        Historical             EV charging points      EV   \n",
       "54     Australia        Historical             EV charging points      EV   \n",
       "...          ...               ...                            ...     ...   \n",
       "12569      World    Projection-APS  Oil displacement, million lge    Cars   \n",
       "12578      World  Projection-STEPS  Oil displacement, million lge   Buses   \n",
       "12579      World  Projection-STEPS  Oil displacement, million lge  Trucks   \n",
       "12580      World  Projection-STEPS  Oil displacement, million lge    Vans   \n",
       "12581      World  Projection-STEPS  Oil displacement, million lge    Cars   \n",
       "\n",
       "                    powertrain  year                           unit     value  \n",
       "38     Publicly available fast  2017                charging points      40.0  \n",
       "39     Publicly available slow  2017                charging points     440.0  \n",
       "44     Publicly available fast  2018                charging points      61.0  \n",
       "45     Publicly available slow  2018                charging points     670.0  \n",
       "54     Publicly available slow  2019                charging points    1700.0  \n",
       "...                        ...   ...                            ...       ...  \n",
       "12569                       EV  2035  Oil displacement, million lge  450000.0  \n",
       "12578                       EV  2035  Oil displacement, million lge   30000.0  \n",
       "12579                       EV  2035  Oil displacement, million lge   87000.0  \n",
       "12580                       EV  2035  Oil displacement, million lge   53000.0  \n",
       "12581                       EV  2035  Oil displacement, million lge  450000.0  \n",
       "\n",
       "[12654 rows x 8 columns]"
      ]
     },
     "execution_count": 14,
     "metadata": {},
     "output_type": "execute_result"
    }
   ],
   "source": [
    "ev_sales_data.sort_values(by=['parameter','region'])"
   ]
  },
  {
   "cell_type": "code",
   "execution_count": null,
   "id": "a855d52d-8610-480f-b478-721a602afb10",
   "metadata": {},
   "outputs": [],
   "source": []
  }
 ],
 "metadata": {
  "kernelspec": {
   "display_name": "Python 3 (ipykernel)",
   "language": "python",
   "name": "python3"
  },
  "language_info": {
   "codemirror_mode": {
    "name": "ipython",
    "version": 3
   },
   "file_extension": ".py",
   "mimetype": "text/x-python",
   "name": "python",
   "nbconvert_exporter": "python",
   "pygments_lexer": "ipython3",
   "version": "3.12.4"
  }
 },
 "nbformat": 4,
 "nbformat_minor": 5
}
